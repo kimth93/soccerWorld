{
 "cells": [
  {
   "cell_type": "code",
   "execution_count": 1,
   "metadata": {},
   "outputs": [],
   "source": [
    "\n",
    "\"\"\" Parser Module for Transfermarkt Crawler.\"\"\"\n",
    "import re\n",
    "from headers import TRANSFERS, PLAYERS, TEAMS, MANAGERS, MANAGER_HISTORY\n",
    "import collections\n",
    "def file_read(file_name):\n",
    "    \"\"\" Read files function. \"\"\"\n",
    "    try:\n",
    "        with open(file_name) as file_data:\n",
    "            return file_data.read()\n",
    "    except UnicodeDecodeError:\n",
    "        with open(file_name, encoding='utf-8') as file_data:\n",
    "            return file_data.read()"
   ]
  },
  {
   "cell_type": "code",
   "execution_count": 2,
   "metadata": {},
   "outputs": [],
   "source": [
    "def cut_page(start_token, end_token, page):\n",
    "    \"\"\" Cut the page.\n",
    "\n",
    "        Cut the page in the start_token, and then\n",
    "        the first token that matchs with the position\n",
    "        bigger than the position of the start token.\n",
    "\n",
    "        return cut of the page\n",
    "    \"\"\"\n",
    "    start_pos = [(a.end()) for a in list(re.finditer(start_token, page))]\n",
    "\n",
    "    if start_pos:\n",
    "        start_pos = start_pos[0]\n",
    "        end_pos = [(a.start()) for a in list(re.finditer(end_token, page))]\n",
    "        end_pos = list(filter(lambda x: x > start_pos, end_pos))[0]\n",
    "\n",
    "        return page[start_pos:end_pos]\n",
    "\n",
    "    return page\n"
   ]
  },
  {
   "cell_type": "code",
   "execution_count": 3,
   "metadata": {},
   "outputs": [],
   "source": [
    "def _match_positions(start_list, end_list):\n",
    "    \"\"\" Match start and end positions. \"\"\"\n",
    "\n",
    "    if len(start_list) == 1:\n",
    "        value = start_list[0]\n",
    "        return {value: list(filter(lambda x: value < x, end_list))[0]}\n",
    "\n",
    "    result = {}\n",
    "    for start in start_list:\n",
    "        for end in end_list:\n",
    "            if start < end:\n",
    "                result[start] = end\n",
    "                break\n",
    "\n",
    "    return result"
   ]
  },
  {
   "cell_type": "code",
   "execution_count": 4,
   "metadata": {},
   "outputs": [],
   "source": [
    "def file_write(team_info, players_info, managers_info, header):\n",
    "    \"\"\" Write a file with team info.\n",
    "\n",
    "        players_info = list = each element is a\n",
    "        dict with players info\n",
    "        season = int = collect season\n",
    "\n",
    "        Responsible for create/alterate a file.\n",
    "\n",
    "        Two files will be change along time:\n",
    "            transfer.txt - Will store all gathered transfers.\n",
    "            player.txt - Will store all gathered players\n",
    "            teams.txt - Will store all gathered teams.\n",
    "            managers.txt\n",
    "    \"\"\"\n",
    "\n",
    "    with open('Output/teams.txt', 'a+',encoding='utf-8') as file:\n",
    "        save_file(file, TEAMS, team_info, header)\n",
    "\n",
    "    with open('Output/players_id.txt', 'a+',encoding='utf-8') as file:\n",
    "        players_info = verify_id(file, players_info)\n",
    "\n",
    "    header_aux = header\n",
    "    with open('Output/players.txt', 'a+',encoding='utf-8') as file:\n",
    "        for player in players_info:\n",
    "            save_file(file, PLAYERS, player, header)\n",
    "            header = False\n",
    "        \n",
    "        \n",
    "        header = header_aux\n",
    "\n",
    "    header_aux = header\n",
    "    \n",
    "\n",
    "    with open('Output/transfers.txt', 'a+',encoding='utf-8') as file:\n",
    "        transfers = []\n",
    "        transfers = list(map(lambda x: x['Transfers'],players_info))\n",
    "        \n",
    "        #isinstance(transfers, collections.Iterable)\n",
    "        isinstance(player_transfers, collections.Iterable)\n",
    "        print(isinstance(player_transfers, collections.Iterable))\n",
    "        for player_transfers in transfers:\n",
    "            \n",
    "            #isinstance(player_transfers, collections.Iterable)\n",
    "            for transfer in player_transfers:\n",
    "                \n",
    "                #isinstance(player_transfers, collections.Iterable)\n",
    "                save_file(file, TRANSFERS, transfer, header)\n",
    "                header = False\n",
    "                \n",
    "        header = header_aux\n",
    "\n",
    "    with open('Output/managers_id.txt', 'a+',encoding='utf-8') as file:\n",
    "        managers_info = verify_id(file, managers_info)\n",
    "\n",
    "    with open('Output/managers.txt', 'a+',encoding='utf-8') as file:\n",
    "        for manager in managers_info:\n",
    "            save_file(file, MANAGERS, manager, header)\n",
    "            header = False\n",
    "        header = header_aux\n",
    "\n",
    "    manager_history = []\n",
    "    with open('Output/managers_history.txt', 'a+',encoding='utf-8') as file:\n",
    "        manager_history = list(map(lambda x: x['History'],managers_info))\n",
    "        for history in manager_history:\n",
    "            for works in history:\n",
    "                save_file(file, MANAGER_HISTORY, works, header)\n",
    "                header = False\n"
   ]
  },
  {
   "cell_type": "code",
   "execution_count": 5,
   "metadata": {
    "scrolled": true
   },
   "outputs": [
    {
     "ename": "NameError",
     "evalue": "name 'player_transfers' is not defined",
     "output_type": "error",
     "traceback": [
      "\u001b[1;31m---------------------------------------------------------------------------\u001b[0m",
      "\u001b[1;31mNameError\u001b[0m                                 Traceback (most recent call last)",
      "\u001b[1;32m<ipython-input-5-76e9463ac78d>\u001b[0m in \u001b[0;36m<module>\u001b[1;34m\u001b[0m\n\u001b[1;32m----> 1\u001b[1;33m \u001b[0mprint\u001b[0m\u001b[1;33m(\u001b[0m\u001b[0mplayer_transfers\u001b[0m\u001b[1;33m)\u001b[0m\u001b[1;33m\u001b[0m\u001b[1;33m\u001b[0m\u001b[0m\n\u001b[0m",
      "\u001b[1;31mNameError\u001b[0m: name 'player_transfers' is not defined"
     ]
    }
   ],
   "source": [
    "print(player_transfers)"
   ]
  },
  {
   "cell_type": "code",
   "execution_count": 6,
   "metadata": {
    "scrolled": true
   },
   "outputs": [
    {
     "ename": "UnsupportedOperation",
     "evalue": "detach",
     "output_type": "error",
     "traceback": [
      "\u001b[1;31m---------------------------------------------------------------------------\u001b[0m",
      "\u001b[1;31mUnsupportedOperation\u001b[0m                      Traceback (most recent call last)",
      "\u001b[1;32m<ipython-input-6-f70a54f877f8>\u001b[0m in \u001b[0;36m<module>\u001b[1;34m\u001b[0m\n\u001b[1;32m----> 1\u001b[1;33m \u001b[1;32mimport\u001b[0m \u001b[0manalyzer\u001b[0m\u001b[1;33m\u001b[0m\u001b[1;33m\u001b[0m\u001b[0m\n\u001b[0m\u001b[0;32m      2\u001b[0m \u001b[1;32mimport\u001b[0m \u001b[0mleagues\u001b[0m\u001b[1;33m\u001b[0m\u001b[1;33m\u001b[0m\u001b[0m\n\u001b[0;32m      3\u001b[0m \u001b[1;32mimport\u001b[0m \u001b[0mplayers\u001b[0m\u001b[1;33m\u001b[0m\u001b[1;33m\u001b[0m\u001b[0m\n\u001b[0;32m      4\u001b[0m \u001b[1;32mimport\u001b[0m \u001b[0mmanagers\u001b[0m\u001b[1;33m\u001b[0m\u001b[1;33m\u001b[0m\u001b[0m\n\u001b[0;32m      5\u001b[0m \u001b[1;32mimport\u001b[0m \u001b[0mteams\u001b[0m\u001b[1;33m\u001b[0m\u001b[1;33m\u001b[0m\u001b[0m\n",
      "\u001b[1;32mD:\\Transfermarkt-Crawler-master\\analyzer.py\u001b[0m in \u001b[0;36m<module>\u001b[1;34m\u001b[0m\n\u001b[0;32m      1\u001b[0m \u001b[1;32mimport\u001b[0m \u001b[0msys\u001b[0m\u001b[1;33m\u001b[0m\u001b[1;33m\u001b[0m\u001b[0m\n\u001b[0;32m      2\u001b[0m \u001b[1;32mimport\u001b[0m \u001b[0mio\u001b[0m\u001b[1;33m\u001b[0m\u001b[1;33m\u001b[0m\u001b[0m\n\u001b[1;32m----> 3\u001b[1;33m \u001b[0msys\u001b[0m\u001b[1;33m.\u001b[0m\u001b[0mstdout\u001b[0m \u001b[1;33m=\u001b[0m \u001b[0mio\u001b[0m\u001b[1;33m.\u001b[0m\u001b[0mTextIOWrapper\u001b[0m\u001b[1;33m(\u001b[0m\u001b[0msys\u001b[0m\u001b[1;33m.\u001b[0m\u001b[0mstdout\u001b[0m\u001b[1;33m.\u001b[0m\u001b[0mdetach\u001b[0m\u001b[1;33m(\u001b[0m\u001b[1;33m)\u001b[0m\u001b[1;33m,\u001b[0m \u001b[0mencoding\u001b[0m \u001b[1;33m=\u001b[0m \u001b[1;34m'utf-8'\u001b[0m\u001b[1;33m)\u001b[0m\u001b[1;33m\u001b[0m\u001b[1;33m\u001b[0m\u001b[0m\n\u001b[0m\u001b[0;32m      4\u001b[0m \u001b[0msys\u001b[0m\u001b[1;33m.\u001b[0m\u001b[0mstderr\u001b[0m \u001b[1;33m=\u001b[0m \u001b[0mio\u001b[0m\u001b[1;33m.\u001b[0m\u001b[0mTextIOWrapper\u001b[0m\u001b[1;33m(\u001b[0m\u001b[0msys\u001b[0m\u001b[1;33m.\u001b[0m\u001b[0mstderr\u001b[0m\u001b[1;33m.\u001b[0m\u001b[0mdetach\u001b[0m\u001b[1;33m(\u001b[0m\u001b[1;33m)\u001b[0m\u001b[1;33m,\u001b[0m \u001b[0mencoding\u001b[0m \u001b[1;33m=\u001b[0m \u001b[1;34m'utf-8'\u001b[0m\u001b[1;33m)\u001b[0m\u001b[1;33m\u001b[0m\u001b[1;33m\u001b[0m\u001b[0m\n\u001b[0;32m      5\u001b[0m \u001b[1;34m\"\"\" Parser Module for Transfermarkt Crawler.\"\"\"\u001b[0m\u001b[1;33m\u001b[0m\u001b[1;33m\u001b[0m\u001b[0m\n",
      "\u001b[1;31mUnsupportedOperation\u001b[0m: detach"
     ]
    }
   ],
   "source": [
    "import analyzer\n",
    "import leagues\n",
    "import players\n",
    "import managers\n",
    "import teams\n",
    "\n",
    "if __name__ == '__main__':\n",
    "\n",
    "    SEASON_START = 2017\n",
    "    SEASON_END = 2018\n",
    "    HEADER = True\n",
    "\n",
    "    for league in analyzer.file_read(\"Input/leagues.txt\").split('\\n'):\n",
    "\n",
    "        league_teams = leagues.get_teams(league)\n",
    "\n",
    "        for team in league_teams:\n",
    "\n",
    "            seasons = []  # new list of seasons of a team\n",
    "\n",
    "            for season in range(SEASON_START, SEASON_END):\n",
    "\n",
    "                print(\"Temporada: \", season)\n",
    "\n",
    "                team_players = teams.get_players(league_teams[team],\n",
    "                                                 team, season)\n",
    "\n",
    "                team_info = teams.get_team_info(league_teams[team],\n",
    "                                                team, season)\n",
    "                managers_info = []\n",
    "                if team_info['Manager'] is not None:\n",
    "                    for index, manager in enumerate(team_info['Manager']):\n",
    "                        manager_id = team_info['Manager Id'][index]\n",
    "                        info = managers.get_manager_info(manager, manager_id)\n",
    "                        managers_info.append(info)\n",
    "\n",
    "                players_info = []\n",
    "                for player in team_players:\n",
    "\n",
    "                    players_info.append(players.get_player_info(\n",
    "                                                team_players[player], player))\n",
    "\n",
    "                analyzer.file_write(team_info, players_info,\n",
    "                                  managers_info, HEADER)\n",
    "                HEADER = False\n"
   ]
  },
  {
   "cell_type": "code",
   "execution_count": null,
   "metadata": {},
   "outputs": [],
   "source": []
  }
 ],
 "metadata": {
  "kernelspec": {
   "display_name": "Python 3",
   "language": "python",
   "name": "python3"
  },
  "language_info": {
   "codemirror_mode": {
    "name": "ipython",
    "version": 3
   },
   "file_extension": ".py",
   "mimetype": "text/x-python",
   "name": "python",
   "nbconvert_exporter": "python",
   "pygments_lexer": "ipython3",
   "version": "3.7.6"
  }
 },
 "nbformat": 4,
 "nbformat_minor": 4
}
